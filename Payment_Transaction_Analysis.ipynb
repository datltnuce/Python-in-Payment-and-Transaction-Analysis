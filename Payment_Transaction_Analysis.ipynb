{
 "cells": [
  {
   "cell_type": "markdown",
   "metadata": {},
   "source": [
    "Part 1: EDA"
   ]
  },
  {
   "cell_type": "code",
   "execution_count": null,
   "metadata": {},
   "outputs": [],
   "source": [
    "import pandas as pd\n",
    "import matplotlib.pyplot as plt\n",
    "import seaborn as sns\n",
    "payment_report = pd.read_csv(r'C:\\Users\\Datlt.nuce\\Desktop\\Dataset\\payment_report.csv')\n",
    "product = pd.read_csv(r'C:\\Users\\Datlt.nuce\\Desktop\\Dataset\\product.csv')\n",
    "transactions = pd.read_csv(r'C:\\Users\\Datlt.nuce\\Desktop\\Dataset\\transactions.csv')"
   ]
  },
  {
   "cell_type": "code",
   "execution_count": 3,
   "metadata": {},
   "outputs": [
    {
     "data": {
      "text/html": [
       "<div>\n",
       "<style scoped>\n",
       "    .dataframe tbody tr th:only-of-type {\n",
       "        vertical-align: middle;\n",
       "    }\n",
       "\n",
       "    .dataframe tbody tr th {\n",
       "        vertical-align: top;\n",
       "    }\n",
       "\n",
       "    .dataframe thead th {\n",
       "        text-align: right;\n",
       "    }\n",
       "</style>\n",
       "<table border=\"1\" class=\"dataframe\">\n",
       "  <thead>\n",
       "    <tr style=\"text-align: right;\">\n",
       "      <th></th>\n",
       "      <th>report_month</th>\n",
       "      <th>payment_group</th>\n",
       "      <th>product_id</th>\n",
       "      <th>source_id</th>\n",
       "      <th>volume</th>\n",
       "    </tr>\n",
       "  </thead>\n",
       "  <tbody>\n",
       "    <tr>\n",
       "      <th>0</th>\n",
       "      <td>2023-01</td>\n",
       "      <td>payment</td>\n",
       "      <td>12</td>\n",
       "      <td>45</td>\n",
       "      <td>624110375</td>\n",
       "    </tr>\n",
       "    <tr>\n",
       "      <th>1</th>\n",
       "      <td>2023-01</td>\n",
       "      <td>payment</td>\n",
       "      <td>17</td>\n",
       "      <td>45</td>\n",
       "      <td>335715113</td>\n",
       "    </tr>\n",
       "    <tr>\n",
       "      <th>2</th>\n",
       "      <td>2023-01</td>\n",
       "      <td>payment</td>\n",
       "      <td>18</td>\n",
       "      <td>45</td>\n",
       "      <td>737784466</td>\n",
       "    </tr>\n",
       "    <tr>\n",
       "      <th>3</th>\n",
       "      <td>2023-01</td>\n",
       "      <td>payment</td>\n",
       "      <td>19</td>\n",
       "      <td>45</td>\n",
       "      <td>120963069</td>\n",
       "    </tr>\n",
       "    <tr>\n",
       "      <th>4</th>\n",
       "      <td>2023-01</td>\n",
       "      <td>payment</td>\n",
       "      <td>20</td>\n",
       "      <td>45</td>\n",
       "      <td>319653158</td>\n",
       "    </tr>\n",
       "    <tr>\n",
       "      <th>...</th>\n",
       "      <td>...</td>\n",
       "      <td>...</td>\n",
       "      <td>...</td>\n",
       "      <td>...</td>\n",
       "      <td>...</td>\n",
       "    </tr>\n",
       "    <tr>\n",
       "      <th>914</th>\n",
       "      <td>2023-04</td>\n",
       "      <td>payment</td>\n",
       "      <td>15067</td>\n",
       "      <td>45</td>\n",
       "      <td>1504000</td>\n",
       "    </tr>\n",
       "    <tr>\n",
       "      <th>915</th>\n",
       "      <td>2023-04</td>\n",
       "      <td>refund</td>\n",
       "      <td>1976</td>\n",
       "      <td>37</td>\n",
       "      <td>3542271587</td>\n",
       "    </tr>\n",
       "    <tr>\n",
       "      <th>916</th>\n",
       "      <td>2023-04</td>\n",
       "      <td>refund</td>\n",
       "      <td>1976</td>\n",
       "      <td>38</td>\n",
       "      <td>13831708189</td>\n",
       "    </tr>\n",
       "    <tr>\n",
       "      <th>917</th>\n",
       "      <td>2023-04</td>\n",
       "      <td>refund</td>\n",
       "      <td>1976</td>\n",
       "      <td>39</td>\n",
       "      <td>1905435543</td>\n",
       "    </tr>\n",
       "    <tr>\n",
       "      <th>918</th>\n",
       "      <td>2023-04</td>\n",
       "      <td>refund</td>\n",
       "      <td>1976</td>\n",
       "      <td>39</td>\n",
       "      <td>3679922071</td>\n",
       "    </tr>\n",
       "  </tbody>\n",
       "</table>\n",
       "<p>919 rows × 5 columns</p>\n",
       "</div>"
      ],
      "text/plain": [
       "    report_month payment_group  product_id  source_id       volume\n",
       "0        2023-01       payment          12         45    624110375\n",
       "1        2023-01       payment          17         45    335715113\n",
       "2        2023-01       payment          18         45    737784466\n",
       "3        2023-01       payment          19         45    120963069\n",
       "4        2023-01       payment          20         45    319653158\n",
       "..           ...           ...         ...        ...          ...\n",
       "914      2023-04       payment       15067         45      1504000\n",
       "915      2023-04        refund        1976         37   3542271587\n",
       "916      2023-04        refund        1976         38  13831708189\n",
       "917      2023-04        refund        1976         39   1905435543\n",
       "918      2023-04        refund        1976         39   3679922071\n",
       "\n",
       "[919 rows x 5 columns]"
      ]
     },
     "execution_count": 3,
     "metadata": {},
     "output_type": "execute_result"
    }
   ],
   "source": [
    "# View all rows of the payment_report DataFrame\n",
    "payment_report.head(1000)"
   ]
  },
  {
   "cell_type": "code",
   "execution_count": 4,
   "metadata": {},
   "outputs": [
    {
     "data": {
      "text/html": [
       "<div>\n",
       "<style scoped>\n",
       "    .dataframe tbody tr th:only-of-type {\n",
       "        vertical-align: middle;\n",
       "    }\n",
       "\n",
       "    .dataframe tbody tr th {\n",
       "        vertical-align: top;\n",
       "    }\n",
       "\n",
       "    .dataframe thead th {\n",
       "        text-align: right;\n",
       "    }\n",
       "</style>\n",
       "<table border=\"1\" class=\"dataframe\">\n",
       "  <thead>\n",
       "    <tr style=\"text-align: right;\">\n",
       "      <th></th>\n",
       "      <th>product_id</th>\n",
       "      <th>category</th>\n",
       "      <th>team_own</th>\n",
       "    </tr>\n",
       "  </thead>\n",
       "  <tbody>\n",
       "    <tr>\n",
       "      <th>0</th>\n",
       "      <td>17</td>\n",
       "      <td>PXXXXXB</td>\n",
       "      <td>ASD</td>\n",
       "    </tr>\n",
       "    <tr>\n",
       "      <th>1</th>\n",
       "      <td>18</td>\n",
       "      <td>PXXXXXB</td>\n",
       "      <td>ASD</td>\n",
       "    </tr>\n",
       "    <tr>\n",
       "      <th>2</th>\n",
       "      <td>20</td>\n",
       "      <td>PXXXXXB</td>\n",
       "      <td>ASD</td>\n",
       "    </tr>\n",
       "    <tr>\n",
       "      <th>3</th>\n",
       "      <td>287</td>\n",
       "      <td>PXXXXXB</td>\n",
       "      <td>ASD</td>\n",
       "    </tr>\n",
       "    <tr>\n",
       "      <th>4</th>\n",
       "      <td>372</td>\n",
       "      <td>PXXXXXB</td>\n",
       "      <td>ASD</td>\n",
       "    </tr>\n",
       "  </tbody>\n",
       "</table>\n",
       "</div>"
      ],
      "text/plain": [
       "   product_id category team_own\n",
       "0          17  PXXXXXB      ASD\n",
       "1          18  PXXXXXB      ASD\n",
       "2          20  PXXXXXB      ASD\n",
       "3         287  PXXXXXB      ASD\n",
       "4         372  PXXXXXB      ASD"
      ]
     },
     "execution_count": 4,
     "metadata": {},
     "output_type": "execute_result"
    }
   ],
   "source": [
    "# View the first few of the product DataFrame\n",
    "product.head(5)"
   ]
  },
  {
   "cell_type": "code",
   "execution_count": 5,
   "metadata": {},
   "outputs": [
    {
     "data": {
      "text/html": [
       "<div>\n",
       "<style scoped>\n",
       "    .dataframe tbody tr th:only-of-type {\n",
       "        vertical-align: middle;\n",
       "    }\n",
       "\n",
       "    .dataframe tbody tr th {\n",
       "        vertical-align: top;\n",
       "    }\n",
       "\n",
       "    .dataframe thead th {\n",
       "        text-align: right;\n",
       "    }\n",
       "</style>\n",
       "<table border=\"1\" class=\"dataframe\">\n",
       "  <thead>\n",
       "    <tr style=\"text-align: right;\">\n",
       "      <th></th>\n",
       "      <th>transaction_id</th>\n",
       "      <th>merchant_id</th>\n",
       "      <th>volume</th>\n",
       "      <th>transType</th>\n",
       "      <th>transStatus</th>\n",
       "      <th>sender_id</th>\n",
       "      <th>receiver_id</th>\n",
       "      <th>extra_info</th>\n",
       "      <th>timeStamp</th>\n",
       "    </tr>\n",
       "  </thead>\n",
       "  <tbody>\n",
       "    <tr>\n",
       "      <th>0</th>\n",
       "      <td>3002692434</td>\n",
       "      <td>5</td>\n",
       "      <td>100000</td>\n",
       "      <td>24</td>\n",
       "      <td>1</td>\n",
       "      <td>10199794.0</td>\n",
       "      <td>199794.0</td>\n",
       "      <td>NaN</td>\n",
       "      <td>1682932054455</td>\n",
       "    </tr>\n",
       "    <tr>\n",
       "      <th>1</th>\n",
       "      <td>3002692437</td>\n",
       "      <td>305</td>\n",
       "      <td>20000</td>\n",
       "      <td>2</td>\n",
       "      <td>1</td>\n",
       "      <td>14022211.0</td>\n",
       "      <td>14022211.0</td>\n",
       "      <td>NaN</td>\n",
       "      <td>1682932054912</td>\n",
       "    </tr>\n",
       "    <tr>\n",
       "      <th>2</th>\n",
       "      <td>3001960110</td>\n",
       "      <td>7255</td>\n",
       "      <td>48605</td>\n",
       "      <td>22</td>\n",
       "      <td>1</td>\n",
       "      <td>NaN</td>\n",
       "      <td>10530940.0</td>\n",
       "      <td>NaN</td>\n",
       "      <td>1682932055000</td>\n",
       "    </tr>\n",
       "    <tr>\n",
       "      <th>3</th>\n",
       "      <td>3002680710</td>\n",
       "      <td>2270</td>\n",
       "      <td>1500000</td>\n",
       "      <td>2</td>\n",
       "      <td>1</td>\n",
       "      <td>10059206.0</td>\n",
       "      <td>59206.0</td>\n",
       "      <td>NaN</td>\n",
       "      <td>1682932055622</td>\n",
       "    </tr>\n",
       "    <tr>\n",
       "      <th>4</th>\n",
       "      <td>3002680713</td>\n",
       "      <td>2275</td>\n",
       "      <td>90000</td>\n",
       "      <td>2</td>\n",
       "      <td>1</td>\n",
       "      <td>10004711.0</td>\n",
       "      <td>4711.0</td>\n",
       "      <td>NaN</td>\n",
       "      <td>1682932056197</td>\n",
       "    </tr>\n",
       "  </tbody>\n",
       "</table>\n",
       "</div>"
      ],
      "text/plain": [
       "   transaction_id  merchant_id   volume  transType  transStatus   sender_id  \\\n",
       "0      3002692434            5   100000         24            1  10199794.0   \n",
       "1      3002692437          305    20000          2            1  14022211.0   \n",
       "2      3001960110         7255    48605         22            1         NaN   \n",
       "3      3002680710         2270  1500000          2            1  10059206.0   \n",
       "4      3002680713         2275    90000          2            1  10004711.0   \n",
       "\n",
       "   receiver_id extra_info      timeStamp  \n",
       "0     199794.0        NaN  1682932054455  \n",
       "1   14022211.0        NaN  1682932054912  \n",
       "2   10530940.0        NaN  1682932055000  \n",
       "3      59206.0        NaN  1682932055622  \n",
       "4       4711.0        NaN  1682932056197  "
      ]
     },
     "execution_count": 5,
     "metadata": {},
     "output_type": "execute_result"
    }
   ],
   "source": [
    "# View the first few of the transactions DataFrame\n",
    "transactions.head()"
   ]
  },
  {
   "cell_type": "code",
   "execution_count": 6,
   "metadata": {},
   "outputs": [
    {
     "data": {
      "text/html": [
       "<div>\n",
       "<style scoped>\n",
       "    .dataframe tbody tr th:only-of-type {\n",
       "        vertical-align: middle;\n",
       "    }\n",
       "\n",
       "    .dataframe tbody tr th {\n",
       "        vertical-align: top;\n",
       "    }\n",
       "\n",
       "    .dataframe thead th {\n",
       "        text-align: right;\n",
       "    }\n",
       "</style>\n",
       "<table border=\"1\" class=\"dataframe\">\n",
       "  <thead>\n",
       "    <tr style=\"text-align: right;\">\n",
       "      <th></th>\n",
       "      <th>report_month</th>\n",
       "      <th>payment_group</th>\n",
       "      <th>product_id</th>\n",
       "      <th>source_id</th>\n",
       "      <th>volume</th>\n",
       "      <th>category</th>\n",
       "      <th>team_own</th>\n",
       "    </tr>\n",
       "  </thead>\n",
       "  <tbody>\n",
       "    <tr>\n",
       "      <th>0</th>\n",
       "      <td>2023-01</td>\n",
       "      <td>payment</td>\n",
       "      <td>12</td>\n",
       "      <td>45</td>\n",
       "      <td>624110375</td>\n",
       "      <td>PXXXXXT</td>\n",
       "      <td>ASD</td>\n",
       "    </tr>\n",
       "    <tr>\n",
       "      <th>1</th>\n",
       "      <td>2023-01</td>\n",
       "      <td>payment</td>\n",
       "      <td>17</td>\n",
       "      <td>45</td>\n",
       "      <td>335715113</td>\n",
       "      <td>PXXXXXB</td>\n",
       "      <td>ASD</td>\n",
       "    </tr>\n",
       "    <tr>\n",
       "      <th>2</th>\n",
       "      <td>2023-01</td>\n",
       "      <td>payment</td>\n",
       "      <td>18</td>\n",
       "      <td>45</td>\n",
       "      <td>737784466</td>\n",
       "      <td>PXXXXXB</td>\n",
       "      <td>ASD</td>\n",
       "    </tr>\n",
       "    <tr>\n",
       "      <th>3</th>\n",
       "      <td>2023-01</td>\n",
       "      <td>payment</td>\n",
       "      <td>19</td>\n",
       "      <td>45</td>\n",
       "      <td>120963069</td>\n",
       "      <td>PXXXXXM2</td>\n",
       "      <td>ASD</td>\n",
       "    </tr>\n",
       "    <tr>\n",
       "      <th>4</th>\n",
       "      <td>2023-01</td>\n",
       "      <td>payment</td>\n",
       "      <td>20</td>\n",
       "      <td>45</td>\n",
       "      <td>319653158</td>\n",
       "      <td>PXXXXXB</td>\n",
       "      <td>ASD</td>\n",
       "    </tr>\n",
       "  </tbody>\n",
       "</table>\n",
       "</div>"
      ],
      "text/plain": [
       "  report_month payment_group  product_id  source_id     volume  category  \\\n",
       "0      2023-01       payment          12         45  624110375   PXXXXXT   \n",
       "1      2023-01       payment          17         45  335715113   PXXXXXB   \n",
       "2      2023-01       payment          18         45  737784466   PXXXXXB   \n",
       "3      2023-01       payment          19         45  120963069  PXXXXXM2   \n",
       "4      2023-01       payment          20         45  319653158   PXXXXXB   \n",
       "\n",
       "  team_own  \n",
       "0      ASD  \n",
       "1      ASD  \n",
       "2      ASD  \n",
       "3      ASD  \n",
       "4      ASD  "
      ]
     },
     "execution_count": 6,
     "metadata": {},
     "output_type": "execute_result"
    }
   ],
   "source": [
    "# Merge the payment_report and product DataFrames\n",
    "payment_enriched = pd.merge(payment_report, product, on='product_id', how='left')\n",
    "payment_enriched.head()"
   ]
  },
  {
   "cell_type": "code",
   "execution_count": null,
   "metadata": {},
   "outputs": [],
   "source": [
    "# Missing data checking:\n",
    "payment_enriched.info()\n",
    "transactions.info()\n",
    "\n",
    "payment_enriched.duplicated().sum()\n",
    "transactions.duplicated().sum()\n",
    "\n",
    "payment_enriched.describe()\n",
    "transactions.describe()"
   ]
  },
  {
   "cell_type": "markdown",
   "metadata": {},
   "source": [
    "- Missing data:\n",
    "+ payment_enriched: 22 rows in column category, \n",
    "                    22 rows in column team_own -> Next step: Delete\n",
    "+ transactions: No missing data\n",
    "\n",
    "- Duplicates:\n",
    "+ payment_enriched: 0 rows -> Next step: No action\n",
    "+ transactions: 28 rows -> Next step: Delete duplicate rows\n",
    "\n",
    "- Incorrect data types:\n",
    "+ payment_enriched: No incorrect data types\n",
    "+ transactions: No incorrect data types\n",
    "\n",
    "- Incorrect values:\n",
    "+ payment_enriched: No incorrect values\n",
    "+ transactions: No incorrect values"
   ]
  },
  {
   "cell_type": "code",
   "execution_count": 9,
   "metadata": {},
   "outputs": [],
   "source": [
    "# Drop missing data in payment_enriched\n",
    "payment_enriched.dropna(inplace=True)"
   ]
  },
  {
   "cell_type": "markdown",
   "metadata": {},
   "source": [
    "Part 2: Data Wrangling"
   ]
  },
  {
   "cell_type": "code",
   "execution_count": 7,
   "metadata": {},
   "outputs": [
    {
     "name": "stdout",
     "output_type": "stream",
     "text": [
      "product_id\n",
      "1976    61797583647\n",
      "429     14667676567\n",
      "372     13713658515\n",
      "Name: volume, dtype: int64\n"
     ]
    }
   ],
   "source": [
    "# Top 3 product_id:\n",
    "top_3_products = payment_enriched.groupby('product_id')['volume'].sum().sort_values(ascending=False).head(3)\n",
    "print(top_3_products)"
   ]
  },
  {
   "cell_type": "code",
   "execution_count": 40,
   "metadata": {},
   "outputs": [
    {
     "name": "stdout",
     "output_type": "stream",
     "text": [
      "Series([], Name: team_own, dtype: int64)\n"
     ]
    }
   ],
   "source": [
    "# Check for any product_id that is associated with more than one team_own:\n",
    "abnormal_products = payment_enriched.groupby('product_id')['team_own'].nunique()\n",
    "abnormal_products = abnormal_products[abnormal_products > 1]\n",
    "print(abnormal_products)"
   ]
  },
  {
   "cell_type": "code",
   "execution_count": 12,
   "metadata": {},
   "outputs": [
    {
     "name": "stdout",
     "output_type": "stream",
     "text": [
      "Lowest Team: APS\n",
      "Lowest Category for the Lowest Team: PXXXXXE\n"
     ]
    }
   ],
   "source": [
    "# Since Q2.2023 data:\n",
    "payment_enriched['report_month'] = pd.to_datetime(payment_enriched['report_month'])\n",
    "q2_2023 = payment_enriched[payment_enriched['report_month'] >= '2023-04-01']\n",
    "\n",
    "# The team has had the lowest performance:\n",
    "lowest_team = q2_2023.groupby('team_own')['volume'].sum().idxmin()\n",
    "\n",
    "# The category that contributes the least to that team\n",
    "lowest_team_data = q2_2023[q2_2023['team_own'] == lowest_team]\n",
    "lowest_category = lowest_team_data.groupby('category')['volume'].sum().idxmin()\n",
    "\n",
    "print(\"Lowest Team:\", lowest_team)\n",
    "print(\"Lowest Category for the Lowest Team:\", lowest_category)"
   ]
  },
  {
   "cell_type": "code",
   "execution_count": 36,
   "metadata": {},
   "outputs": [
    {
     "name": "stdout",
     "output_type": "stream",
     "text": [
      "    report_month payment_group  product_id  source_id      volume category  \\\n",
      "192      2023-01        refund        1976         37   852173308      NaN   \n",
      "193      2023-01        refund        1976         38  3520890417      NaN   \n",
      "194      2023-01        refund        1976         39   443387276      NaN   \n",
      "195      2023-01        refund        1976         39   111281678      NaN   \n",
      "409      2023-02        refund        1976         39      111500      NaN   \n",
      "\n",
      "    team_own  \n",
      "192      NaN  \n",
      "193      NaN  \n",
      "194      NaN  \n",
      "195      NaN  \n",
      "409      NaN  \n",
      "source_id\n",
      "38    36527454759\n",
      "39    16119059662\n",
      "37     9151069226\n",
      "Name: volume, dtype: int64\n",
      "Largest Source ID: 38\n"
     ]
    }
   ],
   "source": [
    "# Filter refund transactions:\n",
    "refunds = payment_enriched[payment_enriched['payment_group'] == 'refund']\n",
    "print(refunds.head())\n",
    "\n",
    "# Total refund volume:\n",
    "source_contribution = refunds.groupby('source_id')['volume'].sum().sort_values(ascending=False)\n",
    "print(source_contribution)\n",
    "\n",
    "# Largest source_id:\n",
    "largest_source = source_contribution.idxmax()\n",
    "print(\"Largest Source ID:\", largest_source)"
   ]
  },
  {
   "cell_type": "code",
   "execution_count": 14,
   "metadata": {},
   "outputs": [],
   "source": [
    "# Find the number of transactions, volume, senders and receivers\n",
    "def define_transaction_type(row):\n",
    "    if row['transType'] == 2:\n",
    "        if row['merchant_id'] == 1205:\n",
    "            return 'Bank Transfer Transaction'\n",
    "        elif row['merchant_id'] == 2260:\n",
    "            return 'Withdraw Money Transaction'\n",
    "        elif row['merchant_id'] == 2270:\n",
    "            return 'Top Up Money Transaction'\n",
    "        else:\n",
    "            return 'Payment Transaction'\n",
    "    elif row['transType'] == 8:\n",
    "        if row['merchant_id'] == 2250:\n",
    "            return 'Transfer Money Transaction'\n",
    "        else:\n",
    "            return 'Split Bill Transaction'\n",
    "    else:\n",
    "        return 'Invalid transactions'\n",
    "\n",
    "transactions['transaction_type'] = transactions.apply(define_transaction_type, axis=1)"
   ]
  },
  {
   "cell_type": "code",
   "execution_count": 15,
   "metadata": {},
   "outputs": [
    {
     "name": "stdout",
     "output_type": "stream",
     "text": [
      "                            total_transactions        volume  sender_id  \\\n",
      "transaction_type                                                          \n",
      "Bank Transfer Transaction                37879   50605806190      23156   \n",
      "Payment Transaction                     398677   71851515181     139583   \n",
      "Split Bill Transaction                    1376       4901464       1323   \n",
      "Top Up Money Transaction                290502  108606478829     110409   \n",
      "Transfer Money Transaction              341177   37033171492      39021   \n",
      "Withdraw Money Transaction               33725   23418181420      24814   \n",
      "\n",
      "                            receiver_id  \n",
      "transaction_type                         \n",
      "Bank Transfer Transaction          9271  \n",
      "Payment Transaction              113298  \n",
      "Split Bill Transaction              572  \n",
      "Top Up Money Transaction         110409  \n",
      "Transfer Money Transaction        34585  \n",
      "Withdraw Money Transaction        24814  \n"
     ]
    }
   ],
   "source": [
    "valid_transactions = transactions[transactions['transaction_type'] != 'Invalid transactions']\n",
    "\n",
    "transaction_summary = valid_transactions.groupby('transaction_type').agg({\n",
    "    'transaction_id': 'count',\n",
    "    'volume': 'sum',\n",
    "    'sender_id': 'nunique',\n",
    "    'receiver_id': 'nunique'\n",
    "}).rename(columns={'transaction_id': 'total_transactions'})\n",
    "print(transaction_summary)"
   ]
  },
  {
   "cell_type": "code",
   "execution_count": null,
   "metadata": {},
   "outputs": [
    {
     "data": {
      "image/png": "[encoded data removed]",
      "text/plain": [
       "<Figure size 1200x500 with 1 Axes>"
      ]
     },
     "metadata": {},
     "output_type": "display_data"
    }
   ],
   "source": [
    "# Convert timeStamp to datetime\n",
    "transactions['timeStamp'] = pd.to_datetime(transactions['timeStamp'], unit='ms')\n",
    "\n",
    "# Aggregate transactions by date to observe trends\n",
    "transactions['date'] = transactions['timeStamp'].dt.date\n",
    "\n",
    "# Visualize the trend of total transaction volume by day\n",
    "plt.figure(figsize=(12, 5))\n",
    "daily_trend = transactions.groupby('date')['volume'].sum()\n",
    "sns.lineplot(x=daily_trend.index, y=daily_trend.values, marker='o', color='b')\n",
    "\n",
    "plt.xticks(rotation=45)\n",
    "plt.xlabel(\"Date\")\n",
    "plt.ylabel(\"Total Transaction Volume\")\n",
    "plt.title(\"Transaction Volume Trend Over Time\")\n",
    "plt.grid(True)\n",
    "plt.show()"
   ]
  },
  {
   "cell_type": "markdown",
   "metadata": {},
   "source": [
    "Insight:\n",
    "- Transactions surged on May 1st and 2nd, 2023, then showed a downward trend from May 3rd onwards.\n",
    "- A significant drop occurred between May 3rd and 4th, possibly due to an anomaly or system change.\n",
    "- Towards the end of the observed period (May 6th - 7th, 2023), transaction volume continued to decline slightly.\n",
    "\n",
    "Recommendation:\n",
    "- Investigate the reason behind the sharp increase on May 1st - 2nd: It could be due to a promotional campaign or an event that attracted more transactions.\n",
    "- Analyze the cause of the sharp decline from May 3rd: Verify if there were system issues, transaction errors, or other factors affecting e-wallet usage.\n",
    "- Strengthen transaction-stimulating campaigns over the weekends: If a decline is observed towards the end of the period, consider offering incentives to maintain stable transaction volumes.\n",
    "\n",
    "Summary: \n",
    "- Transactions spiked at the beginning of May due to unidentified factors, followed by a sharp decline. Further investigation is needed, along with potential incentives to sustain stable transaction volumes."
   ]
  },
  {
   "cell_type": "code",
   "execution_count": null,
   "metadata": {},
   "outputs": [
    {
     "data": {
      "text/plain": [
       "<Figure size 1000x800 with 0 Axes>"
      ]
     },
     "metadata": {},
     "output_type": "display_data"
    },
    {
     "data": {
      "image/png": "[encoded data removed]",
      "text/plain": [
       "<Figure size 1200x600 with 2 Axes>"
      ]
     },
     "metadata": {},
     "output_type": "display_data"
    }
   ],
   "source": [
    "# Convert problematic columns to numeric, forcing errors to NaN\n",
    "transactions['sender_id'] = pd.to_numeric(transactions['sender_id'], errors='coerce')\n",
    "transactions['receiver_id'] = pd.to_numeric(transactions['receiver_id'], errors='coerce')\n",
    "\n",
    "# Heatmap of the correlation matrix without displaying numbers\n",
    "plt.figure(figsize=(10, 8))\n",
    "numeric_cols = transactions.select_dtypes(include=['number'])\n",
    "corr_matrix = numeric_cols.corr()\n",
    "\n",
    "# Heatmap of transaction count by hour and day of the week without displaying numbers\n",
    "heatmap_data = transactions.pivot_table(index='day_of_week', columns='hour', values='transaction_id', aggfunc='count')\n",
    "\n",
    "# Reorder days of the week\n",
    "heatmap_data = heatmap_data.reindex(days_order)\n",
    "\n",
    "# Plot heatmap\n",
    "plt.figure(figsize=(12, 6))\n",
    "sns.heatmap(heatmap_data, cmap=\"YlGnBu\", linewidths=0.5, annot=False)\n",
    "plt.xlabel(\"Hour of the Day\")\n",
    "plt.ylabel(\"Day of the Week\")\n",
    "plt.title(\"Heatmap of Transactions by Hour and Day of the Week\")\n",
    "plt.show()"
   ]
  },
  {
   "cell_type": "markdown",
   "metadata": {},
   "source": [
    "Insights:\n",
    "1. Transactions peak at night and early morning (12 AM - 6 AM)\n",
    "- The highest transaction volumes occur between 12 AM - 6 AM, especially on Monday to Wednesday.\n",
    "- This could be due to automated system transactions or users preferring to conduct online transactions at night.\n",
    "2. Sharp decline in transactions in the evening and late night\n",
    "- From around 5 PM - 11 PM, transaction volume significantly drops, particularly midweek and on weekends.\n",
    "- Wednesday and Thursday show a noticeable drop after 4 PM.\n",
    "3. More balanced transaction activity on weekends\n",
    "- Transactions remain relatively stable throughout Saturday and Sunday without any significant peaks.\n",
    "- This could indicate that customers have more free time on weekends to conduct transactions.\n",
    "\n",
    "Recommendations:\n",
    "1. Optimize system performance at night\n",
    "- Since transaction volume is high between 12 AM - 6 AM, ensure the system has sufficient resources to handle transactions efficiently and avoid network congestion or system errors.\n",
    "- Consider scheduling system maintenance during low-transaction periods, such as 5 PM - 11 PM.\n",
    "2. Increase marketing campaigns in the evening\n",
    "- Since transaction volume drops from 5 PM - 11 PM, introduce promotional campaigns or discounts during this period to attract more users.\n",
    "- Example: “10% transaction fee discount from 6 PM - 10 PM” or “Cashback promotions for evening transactions.”\n",
    "3. Focus on weekend transaction strategies\n",
    "- Since weekend transactions are more evenly distributed, businesses can introduce exclusive weekend promotions to further boost activity.\n",
    "- Identify the key customer segments transacting on weekends to offer tailored promotions.\n",
    "\n",
    "Summary:\n",
    "- This heatmap highlights peak and low transaction hours, helping optimize system performance, improve marketing strategies, and enhance customer experience."
   ]
  }
 ],
 "metadata": {
  "kernelspec": {
   "display_name": "base",
   "language": "python",
   "name": "python3"
  },
  "language_info": {
   "codemirror_mode": {
    "name": "ipython",
    "version": 3
   },
   "file_extension": ".py",
   "mimetype": "text/x-python",
   "name": "python",
   "nbconvert_exporter": "python",
   "pygments_lexer": "ipython3",
   "version": "3.12.7"
  }
 },
 "nbformat": 4,
 "nbformat_minor": 2
}
